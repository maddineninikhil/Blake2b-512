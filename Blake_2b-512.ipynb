{
 "cells": [
  {
   "cell_type": "markdown",
   "metadata": {},
   "source": [
    "# ......................................................BLAKE2b-512...................................................."
   ]
  },
  {
   "cell_type": "code",
   "execution_count": 1,
   "metadata": {},
   "outputs": [],
   "source": [
    "import numpy as np\n",
    "import warnings as w\n",
    "w.simplefilter('ignore')"
   ]
  },
  {
   "cell_type": "markdown",
   "metadata": {},
   "source": [
    "## constants "
   ]
  },
  {
   "cell_type": "code",
   "execution_count": 2,
   "metadata": {},
   "outputs": [],
   "source": [
    "IV = np.array([0x6A09E667F3BCC908,\n",
    "               0xBB67AE8584CAA73B,\n",
    "               0x3C6EF372FE94F82B,\n",
    "               0xA54FF53A5F1D36F1,\n",
    "               0x510E527FADE682D1,\n",
    "               0x9B05688C2B3E6C1F,\n",
    "               0x1F83D9ABFB41BD6B,\n",
    "               0x5BE0CD19137E2179],dtype=\"uint64\")"
   ]
  },
  {
   "cell_type": "code",
   "execution_count": 3,
   "metadata": {},
   "outputs": [],
   "source": [
    "SIGMA = [[0, 1, 2, 3, 4, 5, 6, 7, 8, 9, 10, 11, 12, 13, 14, 15],\n",
    "         [14, 10, 4, 8, 9, 15, 13, 6, 1, 12, 0, 2, 11, 7, 5, 3],\n",
    "         [11, 8, 12, 0, 5, 2, 15, 13, 10, 14, 3, 6, 7, 1, 9, 4],\n",
    "         [7, 9, 3, 1, 13, 12, 11, 14, 2, 6, 5, 10, 4, 0, 15, 8],\n",
    "         [9, 0, 5, 7, 2, 4, 10, 15, 14, 1, 11, 12, 6, 8, 3, 13],\n",
    "         [2, 12, 6, 10, 0, 11, 8, 3, 4, 13, 7, 5, 15, 14, 1, 9],\n",
    "         [12, 5, 1, 15, 14, 13, 4, 10, 0, 7, 6, 3, 9, 2, 8, 11],\n",
    "         [13, 11, 7, 14, 12, 1, 3, 9, 5, 0, 15, 4, 8, 6, 2, 10],\n",
    "         [6, 15, 14, 9, 11, 3, 0, 8, 12, 2, 13, 7, 1, 4, 10, 5],\n",
    "         [10, 2, 8, 4, 7, 6, 1, 5, 15, 11, 9, 14, 3, 12, 13, 0]]"
   ]
  },
  {
   "cell_type": "markdown",
   "metadata": {},
   "source": [
    "## Blake2b function"
   ]
  },
  {
   "cell_type": "code",
   "execution_count": 4,
   "metadata": {},
   "outputs": [],
   "source": [
    "def blake2b_512(m):\n",
    "    cBytesCompressed = 0\n",
    "    cBytesRemaining  = len(m)\n",
    "    counter=0\n",
    "    h = np.array(IV,dtype=\"uint64\")\n",
    "    p = np.array(0x01010040,dtype=\"uint64\")\n",
    "    h[0] = h[0]^p\n",
    "    while(cBytesRemaining > 256):\n",
    "        chunk = getMessage(m,counter)\n",
    "        cBytesCompressed = cBytesCompressed + 256 # increase count of bytes that have been compressed\n",
    "        cBytesRemaining  = cBytesRemaining  - 256  #decrease count of bytes in M remaining to be processed\n",
    "        h = compress(h, chunk, cBytesCompressed, False)  #false ⇒ this is not the last chunk\n",
    "        counter+=256\n",
    "        \n",
    "    chunk = getMessage(m,counter)\n",
    "    cBytesCompressed = cBytesCompressed+cBytesRemaining  #The actual number of bytes leftover in M\n",
    "    chunk = pad(chunk, 256)  #If M was empty, then we will still compress a final chunk of zeros\n",
    "    h = compress(h, chunk, cBytesCompressed, True)  #true ⇒ this is the last chunk\n",
    "    bhash = finalEndian(h)\n",
    "    return bhash"
   ]
  },
  {
   "cell_type": "code",
   "execution_count": 5,
   "metadata": {},
   "outputs": [],
   "source": [
    "def finalEndian(h):\n",
    "    ha=[]\n",
    "    blakehash=\"\"\n",
    "    for i in range (0,8,1):\n",
    "        ha.append(hex(h[i]))\n",
    "        ha[i]=ha[i][2:]\n",
    "        if(len(ha[i])!=16):\n",
    "            ha[i]=\"0\"*(16-len(ha[i]))+ha[i]\n",
    "    for i in range(0,len(ha),1):\n",
    "        ba = bytearray.fromhex(ha[i])\n",
    "        ba.reverse()\n",
    "        ha[i] = ''.join(format(x,'02x')for x in ba).upper()\n",
    "        blakehash=blakehash+ha[i]\n",
    "    return blakehash"
   ]
  },
  {
   "cell_type": "code",
   "execution_count": 6,
   "metadata": {},
   "outputs": [],
   "source": [
    "def convertToHex(m):\n",
    "    return m.encode(\"UTF-8\").hex().upper()"
   ]
  },
  {
   "cell_type": "code",
   "execution_count": 7,
   "metadata": {},
   "outputs": [],
   "source": [
    "def getMessage(m,counter):\n",
    "    return m[counter:counter+256]"
   ]
  },
  {
   "cell_type": "code",
   "execution_count": 8,
   "metadata": {},
   "outputs": [],
   "source": [
    "def pad(m,size):\n",
    "    m=convertToHex(m);\n",
    "    for i in range(len(m),size,1):\n",
    "        if(len(m)<size):\n",
    "            m+='0'\n",
    "    return m"
   ]
  },
  {
   "cell_type": "markdown",
   "metadata": {},
   "source": [
    "### compress function"
   ]
  },
  {
   "cell_type": "code",
   "execution_count": 9,
   "metadata": {},
   "outputs": [],
   "source": [
    "def compress(h,chunk,t,isLast):\n",
    "    f = np.uint64(0xFFFFFFFFFFFFFFFF)\n",
    "    v=np.array(h,dtype=\"uint64\")\n",
    "    v= np.append(v,IV)\n",
    "    v=np.uint64(v)\n",
    "    t0,t1 = getCounter(t)\n",
    "    v[12] = v[12]^t0\n",
    "    v[13] = v[13]^t1\n",
    "    chunk = littleEndian(chunk)\n",
    "    msg = np.uint64(chunk)\n",
    "    if isLast:\n",
    "        v[14] = v[14]^f\n",
    "    for i in range(0,12,1):\n",
    "        S = SIGMA[i % 10]\n",
    "        #Column step\n",
    "        v[0], v[4], v[8],  v[12] = G(v[0], v[4], v[8],  v[12], msg[S[0]], msg[S[1]])\n",
    "        v[1], v[5], v[9],  v[13] = G(v[1], v[5], v[9],  v[13], msg[S[2]], msg[S[3]])\n",
    "        v[2], v[6], v[10], v[14] = G(v[2], v[6], v[10], v[14], msg[S[4]], msg[S[5]])\n",
    "        v[3], v[7], v[11], v[15] = G(v[3], v[7], v[11], v[15], msg[S[6]], msg[S[7]])\n",
    "        \n",
    "        #Diagonal step\n",
    "        v[0], v[5], v[10], v[15] = G(v[0], v[5], v[10], v[15], msg[S[8]],  msg[S[9]])\n",
    "        v[1], v[6], v[11], v[12] = G(v[1], v[6], v[11], v[12], msg[S[10]], msg[S[11]])\n",
    "        v[2], v[7], v[8],  v[13] = G(v[2], v[7], v[8],  v[13], msg[S[12]], msg[S[13]])\n",
    "        v[3], v[4], v[9],  v[14] = G(v[3], v[4], v[9],  v[14], msg[S[14]], msg[S[15]])\n",
    "    for i in range(0,8,1):\n",
    "        h[i] = h[i]^v[i]^v[i+8]\n",
    "    return h"
   ]
  },
  {
   "cell_type": "code",
   "execution_count": 10,
   "metadata": {},
   "outputs": [],
   "source": [
    "def getCounter(t):\n",
    "    t = bin(t)\n",
    "    t = \"0\"+t[2:]\n",
    "    for i in range(len(t),128,1):\n",
    "        t = \"0\"+t\n",
    "    t1 = np.uint64(int(t[0:64],2))\n",
    "    t0 = np.uint64(int(t[64:128],2))\n",
    "    return t0,t1"
   ]
  },
  {
   "cell_type": "code",
   "execution_count": 11,
   "metadata": {},
   "outputs": [],
   "source": [
    "def littleEndian(m):\n",
    "    msg = [m[i:i+16]for i in range(0,len(m),16)]\n",
    "    for i in range(0,len(msg),1):\n",
    "        ba = bytearray.fromhex(msg[i])\n",
    "        ba.reverse()\n",
    "        msg[i] = ''.join(format(x,'02x')for x in ba)\n",
    "        msg[i] = int(msg[i],16)\n",
    "    return msg"
   ]
  },
  {
   "cell_type": "markdown",
   "metadata": {},
   "source": [
    "### G-function "
   ]
  },
  {
   "cell_type": "code",
   "execution_count": 12,
   "metadata": {},
   "outputs": [],
   "source": [
    "#G function\n",
    "def G(a,b,c,d,x,y):\n",
    "    r1=np.uint64(32)\n",
    "    r2=np.uint64(24)\n",
    "    r3=np.uint64(16)\n",
    "    r4=np.uint64(63)\n",
    "    a = a+b+x\n",
    "    d = ROR64((d^a),r1)\n",
    "    c = c+d\n",
    "    b = ROR64((b^c),r2)\n",
    "    a = a+b+y\n",
    "    d = ROR64((d^a),r3)\n",
    "    c = c+d\n",
    "    b = ROR64((b^c),r4)\n",
    "    return a,b,c,d"
   ]
  },
  {
   "cell_type": "code",
   "execution_count": 13,
   "metadata": {},
   "outputs": [],
   "source": [
    "#Rotate Right \n",
    "def ROR64(x,y):\n",
    "    r = np.uint64(64)\n",
    "    return (((x) >> (y)) ^ ((x) << (r - (y))))"
   ]
  },
  {
   "cell_type": "markdown",
   "metadata": {},
   "source": [
    "## Outputs"
   ]
  },
  {
   "cell_type": "code",
   "execution_count": 14,
   "metadata": {},
   "outputs": [
    {
     "data": {
      "text/plain": [
       "'BA80A53F981C4D0D6A2797B69F12F6E94C212F14685AC4B74B12BB6FDBFFA2D17D87C5392AAB792DC252D5DE4533CC9518D38AA8DBF1925AB92386EDD4009923'"
      ]
     },
     "execution_count": 14,
     "metadata": {},
     "output_type": "execute_result"
    }
   ],
   "source": [
    "blake2b_512(\"abc\")"
   ]
  },
  {
   "cell_type": "code",
   "execution_count": 15,
   "metadata": {},
   "outputs": [
    {
     "data": {
      "text/plain": [
       "'786A02F742015903C6C6FD852552D272912F4740E15847618A86E217F71F5419D25E1031AFEE585313896444934EB04B903A685B1448B755D56F701AFE9BE2CE'"
      ]
     },
     "execution_count": 15,
     "metadata": {},
     "output_type": "execute_result"
    }
   ],
   "source": [
    "blake2b_512(\"\")"
   ]
  },
  {
   "cell_type": "code",
   "execution_count": 16,
   "metadata": {},
   "outputs": [
    {
     "data": {
      "text/plain": [
       "'A8ADD4BDDDFD93E4877D2746E62817B116364A1FA7BC148D95090BC7333B3673F82401CF7AA2E4CB1ECD90296E3F14CB5413F8ED77BE73045B13914CDCD6A918'"
      ]
     },
     "execution_count": 16,
     "metadata": {},
     "output_type": "execute_result"
    }
   ],
   "source": [
    "blake2b_512(\"The quick brown fox jumps over the lazy dog\")"
   ]
  },
  {
   "cell_type": "code",
   "execution_count": 17,
   "metadata": {},
   "outputs": [
    {
     "data": {
      "text/plain": [
       "True"
      ]
     },
     "execution_count": 17,
     "metadata": {},
     "output_type": "execute_result"
    }
   ],
   "source": [
    "Einp = \"abc\"\n",
    "Eoup = \"BA80A53F981C4D0D6A2797B69F12F6E94C212F14685AC4B74B12BB6FDBFFA2D17D87C5392AAB792DC252D5DE4533CC9518D38AA8DBF1925AB92386EDD4009923\"\n",
    "Ainp = \"abc\"\n",
    "Aoup = \"BA80A53F981C4D0D6A2797B69F12F6E94C212F14685AC4B74B12BB6FDBFFA2D17D87C5392AAB792DC252D5DE4533CC9518D38AA8DBF1925AB92386EDD4009923\"\n",
    "Eoup==Aoup"
   ]
  },
  {
   "cell_type": "code",
   "execution_count": 18,
   "metadata": {},
   "outputs": [
    {
     "data": {
      "text/plain": [
       "True"
      ]
     },
     "execution_count": 18,
     "metadata": {},
     "output_type": "execute_result"
    }
   ],
   "source": [
    "Einp1 = \"\"\n",
    "Eoup1 = \"786A02F742015903C6C6FD852552D272912F4740E15847618A86E217F71F5419D25E1031AFEE585313896444934EB04B903A685B1448B755D56F701AFE9BE2CE\"\n",
    "Ainp1 = \"\"\n",
    "Aoup1 = \"786A02F742015903C6C6FD852552D272912F4740E15847618A86E217F71F5419D25E1031AFEE585313896444934EB04B903A685B1448B755D56F701AFE9BE2CE\"\n",
    "Eoup1==Aoup1"
   ]
  },
  {
   "cell_type": "code",
   "execution_count": 19,
   "metadata": {},
   "outputs": [
    {
     "data": {
      "text/plain": [
       "True"
      ]
     },
     "execution_count": 19,
     "metadata": {},
     "output_type": "execute_result"
    }
   ],
   "source": [
    "Einp2 = \"The quick brown fox jumps over the lazy dog\"\n",
    "Eoup2 = \"A8ADD4BDDDFD93E4877D2746E62817B116364A1FA7BC148D95090BC7333B3673F82401CF7AA2E4CB1ECD90296E3F14CB5413F8ED77BE73045B13914CDCD6A918\"\n",
    "Ainp2 = \"The quick brown fox jumps over the lazy dog\"\n",
    "Aoup2 = \"A8ADD4BDDDFD93E4877D2746E62817B116364A1FA7BC148D95090BC7333B3673F82401CF7AA2E4CB1ECD90296E3F14CB5413F8ED77BE73045B13914CDCD6A918\"\n",
    "Eoup2==Aoup2"
   ]
  }
 ],
 "metadata": {
  "kernelspec": {
   "display_name": "Python 3",
   "language": "python",
   "name": "python3"
  },
  "language_info": {
   "codemirror_mode": {
    "name": "ipython",
    "version": 3
   },
   "file_extension": ".py",
   "mimetype": "text/x-python",
   "name": "python",
   "nbconvert_exporter": "python",
   "pygments_lexer": "ipython3",
   "version": "3.6.5"
  }
 },
 "nbformat": 4,
 "nbformat_minor": 2
}
